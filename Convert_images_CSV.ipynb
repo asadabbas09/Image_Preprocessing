{
 "cells": [
  {
   "cell_type": "code",
   "execution_count": 1,
   "metadata": {
    "collapsed": false,
    "deletable": true,
    "editable": true
   },
   "outputs": [
    {
     "name": "stdout",
     "output_type": "stream",
     "text": [
      "Populating the interactive namespace from numpy and matplotlib\n"
     ]
    }
   ],
   "source": [
    "%pylab inline\n",
    "import PIL.Image as Image\n",
    "import numpy as np\n",
    "import glob\n",
    "import os\n",
    "import matplotlib.pyplot as plt\n",
    "import matplotlib.image as mpimg\n",
    "import pandas as pd"
   ]
  },
  {
   "cell_type": "code",
   "execution_count": null,
   "metadata": {
    "collapsed": false,
    "deletable": true,
    "editable": true
   },
   "outputs": [],
   "source": []
  },
  {
   "cell_type": "code",
   "execution_count": 4,
   "metadata": {
    "collapsed": false,
    "deletable": true,
    "editable": true
   },
   "outputs": [
    {
     "name": "stdout",
     "output_type": "stream",
     "text": [
      "Saving as train_neutral.csv\n",
      "Saving as train_sadness.csv\n",
      "Saving as train_happiness.csv\n",
      "Saving as train_surprise.csv\n",
      "Saving as train_disgust.csv\n",
      "Saving as train_angry.csv\n",
      "Saving as train_fear.csv\n",
      "Saving as validation_neutral.csv\n",
      "Saving as validation_sadness.csv\n",
      "Saving as validation_happiness.csv\n",
      "Saving as validation_surprise.csv\n",
      "Saving as validation_disgust.csv\n",
      "Saving as validation_angry.csv\n",
      "Saving as validation_fear.csv\n",
      "Saving as test_neutral.csv\n",
      "Saving as test_sadness.csv\n",
      "Saving as test_happiness.csv\n",
      "Saving as test_surprise.csv\n",
      "Saving as test_disgust.csv\n",
      "Saving as test_angry.csv\n",
      "Saving as test_fear.csv\n"
     ]
    }
   ],
   "source": [
    "root, dirs, files = os.walk(\"/home/asad/Desktop/Facial/try_try_again/fer2013_grayscale/fer2013_data/\").__next__()\n",
    "\n",
    "for i in range(len(dirs)):\n",
    "    subroot, subdirs, subfiles = os.walk(root+\"/\"+dirs[i]).__next__()\n",
    "    for j in range(len(subdirs)):\n",
    "        filelist = glob.glob((subroot+\"/\"+subdirs[j]+'/*.png'))\n",
    "        x = np.array([np.array(Image.open(fname)) for fname in filelist])\n",
    "        x.shape\n",
    "        print(\"Saving as \"+dirs[i]+\"_\"+subdirs[j]+\".csv\")\n",
    "        ds = x.reshape(x.shape[0],x.shape[2]*x.shape[1])\n",
    "        numpy.savetxt(dirs[i]+\"_\"+subdirs[j]+\".csv\", ds, delimiter=\" \",fmt='%i')\n",
    "        df = pd.read_csv(dirs[i]+\"_\"+subdirs[j]+\".csv\", header=None, names=['Pixels'])\n",
    "        df.insert(0, 'labels', j)\n",
    "        # print(dirs[i]+'_csv/'+dirs[i]+\"_\"+subdirs[j]+\".csv\")\n",
    "        df.to_csv(dirs[i]+'_csv/'+dirs[i]+\"_\"+subdirs[j]+\".csv\", sep='\\t',index=False)\n"
   ]
  },
  {
   "cell_type": "code",
   "execution_count": 34,
   "metadata": {
    "collapsed": false,
    "deletable": true,
    "editable": true
   },
   "outputs": [],
   "source": [
    "fout=open(\"out.csv\",\"a\")\n",
    "path ='validation_csv' # use your path\n",
    "filenames = glob.glob(path + \"/*.csv\")\n",
    "combined_csv = pd.concat([pd.read_csv(f) for f in filenames])\n",
    "combined_csv.to_csv('valid_all.csv',sep=',', index=False, header=None )\n",
    "\n",
    "\n"
   ]
  },
  {
   "cell_type": "code",
   "execution_count": 196,
   "metadata": {
    "collapsed": false,
    "deletable": true,
    "editable": true
   },
   "outputs": [
    {
     "data": {
      "text/html": [
       "<div>\n",
       "<table border=\"1\" class=\"dataframe\">\n",
       "  <thead>\n",
       "    <tr style=\"text-align: right;\">\n",
       "      <th></th>\n",
       "      <th>labels</th>\n",
       "      <th>Pixels</th>\n",
       "    </tr>\n",
       "  </thead>\n",
       "  <tbody>\n",
       "    <tr>\n",
       "      <th>0</th>\n",
       "      <td>0</td>\n",
       "      <td>71 68 62 63 183 237 236 241 244 245 246 246 24...</td>\n",
       "    </tr>\n",
       "    <tr>\n",
       "      <th>1</th>\n",
       "      <td>0</td>\n",
       "      <td>243 246 208 132 106 105 109 122 124 106 92 93 ...</td>\n",
       "    </tr>\n",
       "    <tr>\n",
       "      <th>2</th>\n",
       "      <td>0</td>\n",
       "      <td>46 40 34 35 40 24 28 50 71 95 113 128 143 153 ...</td>\n",
       "    </tr>\n",
       "    <tr>\n",
       "      <th>3</th>\n",
       "      <td>0</td>\n",
       "      <td>144 135 127 132 143 155 177 182 178 168 152 15...</td>\n",
       "    </tr>\n",
       "    <tr>\n",
       "      <th>4</th>\n",
       "      <td>0</td>\n",
       "      <td>230 125 80 66 78 73 82 73 77 70 59 62 46 35 29...</td>\n",
       "    </tr>\n",
       "    <tr>\n",
       "      <th>5</th>\n",
       "      <td>0</td>\n",
       "      <td>54 90 88 80 97 151 161 133 105 129 125 129 143...</td>\n",
       "    </tr>\n",
       "    <tr>\n",
       "      <th>6</th>\n",
       "      <td>0</td>\n",
       "      <td>169 167 171 196 204 206 192 174 154 149 155 15...</td>\n",
       "    </tr>\n",
       "    <tr>\n",
       "      <th>7</th>\n",
       "      <td>0</td>\n",
       "      <td>63 63 64 65 65 65 63 64 64 65 65 64 64 63 65 6...</td>\n",
       "    </tr>\n",
       "    <tr>\n",
       "      <th>8</th>\n",
       "      <td>0</td>\n",
       "      <td>195 114 30 34 31 29 31 30 31 27 25 29 32 36 35...</td>\n",
       "    </tr>\n",
       "    <tr>\n",
       "      <th>9</th>\n",
       "      <td>0</td>\n",
       "      <td>118 103 92 67 76 93 100 107 113 114 119 122 12...</td>\n",
       "    </tr>\n",
       "    <tr>\n",
       "      <th>10</th>\n",
       "      <td>0</td>\n",
       "      <td>84 84 84 85 85 86 85 85 87 79 48 65 147 198 18...</td>\n",
       "    </tr>\n",
       "    <tr>\n",
       "      <th>11</th>\n",
       "      <td>0</td>\n",
       "      <td>18 19 20 21 21 22 22 22 22 22 22 22 22 20 20 1...</td>\n",
       "    </tr>\n",
       "    <tr>\n",
       "      <th>12</th>\n",
       "      <td>0</td>\n",
       "      <td>89 99 110 120 145 169 181 184 191 200 199 205 ...</td>\n",
       "    </tr>\n",
       "    <tr>\n",
       "      <th>13</th>\n",
       "      <td>0</td>\n",
       "      <td>69 64 67 59 73 99 39 44 34 23 48 90 119 147 16...</td>\n",
       "    </tr>\n",
       "    <tr>\n",
       "      <th>14</th>\n",
       "      <td>0</td>\n",
       "      <td>171 158 152 137 113 105 101 90 84 94 105 110 1...</td>\n",
       "    </tr>\n",
       "    <tr>\n",
       "      <th>15</th>\n",
       "      <td>0</td>\n",
       "      <td>57 46 48 42 35 43 45 43 48 51 50 33 30 30 37 3...</td>\n",
       "    </tr>\n",
       "    <tr>\n",
       "      <th>16</th>\n",
       "      <td>0</td>\n",
       "      <td>42 34 58 137 148 156 167 168 174 181 187 194 1...</td>\n",
       "    </tr>\n",
       "    <tr>\n",
       "      <th>17</th>\n",
       "      <td>0</td>\n",
       "      <td>208 208 209 207 203 155 28 13 93 165 158 162 1...</td>\n",
       "    </tr>\n",
       "    <tr>\n",
       "      <th>18</th>\n",
       "      <td>0</td>\n",
       "      <td>17 18 19 17 20 128 152 149 149 150 146 143 160...</td>\n",
       "    </tr>\n",
       "    <tr>\n",
       "      <th>19</th>\n",
       "      <td>0</td>\n",
       "      <td>1 1 0 0 5 1 1 1 0 0 0 0 10 10 0 1 0 0 0 0 0 0 ...</td>\n",
       "    </tr>\n",
       "    <tr>\n",
       "      <th>20</th>\n",
       "      <td>0</td>\n",
       "      <td>114 148 175 185 181 185 187 182 181 190 192 19...</td>\n",
       "    </tr>\n",
       "    <tr>\n",
       "      <th>21</th>\n",
       "      <td>0</td>\n",
       "      <td>71 118 229 215 200 146 167 146 182 212 227 212...</td>\n",
       "    </tr>\n",
       "    <tr>\n",
       "      <th>22</th>\n",
       "      <td>0</td>\n",
       "      <td>185 112 79 137 183 186 123 79 93 114 86 66 84 ...</td>\n",
       "    </tr>\n",
       "    <tr>\n",
       "      <th>23</th>\n",
       "      <td>0</td>\n",
       "      <td>62 41 36 112 94 83 66 57 51 72 84 68 66 73 82 ...</td>\n",
       "    </tr>\n",
       "    <tr>\n",
       "      <th>24</th>\n",
       "      <td>0</td>\n",
       "      <td>46 69 70 91 74 73 106 149 153 164 174 186 194 ...</td>\n",
       "    </tr>\n",
       "    <tr>\n",
       "      <th>25</th>\n",
       "      <td>0</td>\n",
       "      <td>31 34 26 2 1 1 0 0 0 0 0 4 9 17 25 31 37 39 47...</td>\n",
       "    </tr>\n",
       "    <tr>\n",
       "      <th>26</th>\n",
       "      <td>0</td>\n",
       "      <td>182 179 179 170 179 116 57 42 26 20 34 57 69 9...</td>\n",
       "    </tr>\n",
       "    <tr>\n",
       "      <th>27</th>\n",
       "      <td>0</td>\n",
       "      <td>95 88 68 77 80 93 94 90 87 91 97 95 91 96 122 ...</td>\n",
       "    </tr>\n",
       "    <tr>\n",
       "      <th>28</th>\n",
       "      <td>0</td>\n",
       "      <td>44 33 43 37 38 40 29 32 30 28 37 31 29 30 32 3...</td>\n",
       "    </tr>\n",
       "    <tr>\n",
       "      <th>29</th>\n",
       "      <td>0</td>\n",
       "      <td>25 34 42 44 42 47 57 59 59 58 54 51 50 56 63 6...</td>\n",
       "    </tr>\n",
       "    <tr>\n",
       "      <th>...</th>\n",
       "      <td>...</td>\n",
       "      <td>...</td>\n",
       "    </tr>\n",
       "    <tr>\n",
       "      <th>860</th>\n",
       "      <td>0</td>\n",
       "      <td>103 87 130 120 101 84 73 103 156 142 157 169 1...</td>\n",
       "    </tr>\n",
       "    <tr>\n",
       "      <th>861</th>\n",
       "      <td>0</td>\n",
       "      <td>168 171 179 192 205 208 204 194 178 165 159 14...</td>\n",
       "    </tr>\n",
       "    <tr>\n",
       "      <th>862</th>\n",
       "      <td>0</td>\n",
       "      <td>255 205 89 62 47 58 65 84 69 55 73 121 142 176...</td>\n",
       "    </tr>\n",
       "    <tr>\n",
       "      <th>863</th>\n",
       "      <td>0</td>\n",
       "      <td>1 0 0 26 43 19 4 14 20 24 33 39 46 60 60 59 71...</td>\n",
       "    </tr>\n",
       "    <tr>\n",
       "      <th>864</th>\n",
       "      <td>0</td>\n",
       "      <td>36 17 17 50 90 111 115 111 116 125 134 148 156...</td>\n",
       "    </tr>\n",
       "    <tr>\n",
       "      <th>865</th>\n",
       "      <td>0</td>\n",
       "      <td>65 66 67 67 70 68 76 128 154 155 155 154 154 1...</td>\n",
       "    </tr>\n",
       "    <tr>\n",
       "      <th>866</th>\n",
       "      <td>0</td>\n",
       "      <td>16 7 4 15 13 17 10 45 28 5 9 8 15 26 18 48 24 ...</td>\n",
       "    </tr>\n",
       "    <tr>\n",
       "      <th>867</th>\n",
       "      <td>0</td>\n",
       "      <td>144 153 188 182 181 190 198 193 194 179 170 16...</td>\n",
       "    </tr>\n",
       "    <tr>\n",
       "      <th>868</th>\n",
       "      <td>0</td>\n",
       "      <td>13 13 20 28 34 20 18 17 23 27 30 32 27 23 20 1...</td>\n",
       "    </tr>\n",
       "    <tr>\n",
       "      <th>869</th>\n",
       "      <td>0</td>\n",
       "      <td>145 150 139 94 84 82 62 47 49 91 132 153 177 1...</td>\n",
       "    </tr>\n",
       "    <tr>\n",
       "      <th>870</th>\n",
       "      <td>0</td>\n",
       "      <td>35 13 6 5 6 12 25 39 38 22 24 59 103 125 124 1...</td>\n",
       "    </tr>\n",
       "    <tr>\n",
       "      <th>871</th>\n",
       "      <td>0</td>\n",
       "      <td>110 118 112 107 106 92 95 102 100 105 105 91 5...</td>\n",
       "    </tr>\n",
       "    <tr>\n",
       "      <th>872</th>\n",
       "      <td>0</td>\n",
       "      <td>6 7 10 8 10 13 22 27 38 49 67 84 91 94 103 108...</td>\n",
       "    </tr>\n",
       "    <tr>\n",
       "      <th>873</th>\n",
       "      <td>0</td>\n",
       "      <td>222 222 220 220 236 206 88 23 26 26 22 18 15 1...</td>\n",
       "    </tr>\n",
       "    <tr>\n",
       "      <th>874</th>\n",
       "      <td>0</td>\n",
       "      <td>167 124 68 72 111 110 96 89 90 100 127 172 177...</td>\n",
       "    </tr>\n",
       "    <tr>\n",
       "      <th>875</th>\n",
       "      <td>0</td>\n",
       "      <td>152 153 150 148 150 154 116 95 118 107 81 22 7...</td>\n",
       "    </tr>\n",
       "    <tr>\n",
       "      <th>876</th>\n",
       "      <td>0</td>\n",
       "      <td>23 21 20 20 20 18 17 24 23 40 69 88 88 92 98 1...</td>\n",
       "    </tr>\n",
       "    <tr>\n",
       "      <th>877</th>\n",
       "      <td>0</td>\n",
       "      <td>109 104 108 110 111 111 113 117 119 119 126 13...</td>\n",
       "    </tr>\n",
       "    <tr>\n",
       "      <th>878</th>\n",
       "      <td>0</td>\n",
       "      <td>63 72 71 54 55 51 50 49 49 44 47 47 50 48 49 4...</td>\n",
       "    </tr>\n",
       "    <tr>\n",
       "      <th>879</th>\n",
       "      <td>0</td>\n",
       "      <td>109 77 41 42 44 35 58 54 63 49 40 48 60 116 12...</td>\n",
       "    </tr>\n",
       "    <tr>\n",
       "      <th>880</th>\n",
       "      <td>0</td>\n",
       "      <td>108 119 121 115 104 92 88 96 105 118 104 107 1...</td>\n",
       "    </tr>\n",
       "    <tr>\n",
       "      <th>881</th>\n",
       "      <td>0</td>\n",
       "      <td>254 200 150 131 163 141 174 68 78 161 174 174 ...</td>\n",
       "    </tr>\n",
       "    <tr>\n",
       "      <th>882</th>\n",
       "      <td>0</td>\n",
       "      <td>180 175 167 165 165 163 168 177 181 184 187 19...</td>\n",
       "    </tr>\n",
       "    <tr>\n",
       "      <th>883</th>\n",
       "      <td>0</td>\n",
       "      <td>115 115 116 116 116 118 116 111 96 100 108 120...</td>\n",
       "    </tr>\n",
       "    <tr>\n",
       "      <th>884</th>\n",
       "      <td>0</td>\n",
       "      <td>131 52 33 25 55 64 102 93 106 126 115 119 125 ...</td>\n",
       "    </tr>\n",
       "    <tr>\n",
       "      <th>885</th>\n",
       "      <td>0</td>\n",
       "      <td>111 185 227 226 217 216 205 213 216 221 213 20...</td>\n",
       "    </tr>\n",
       "    <tr>\n",
       "      <th>886</th>\n",
       "      <td>0</td>\n",
       "      <td>188 159 117 112 116 119 122 122 125 128 132 13...</td>\n",
       "    </tr>\n",
       "    <tr>\n",
       "      <th>887</th>\n",
       "      <td>0</td>\n",
       "      <td>0 3 6 14 30 37 42 36 56 60 74 104 121 132 165 ...</td>\n",
       "    </tr>\n",
       "    <tr>\n",
       "      <th>888</th>\n",
       "      <td>0</td>\n",
       "      <td>30 39 44 47 49 52 55 57 71 85 57 47 66 64 69 8...</td>\n",
       "    </tr>\n",
       "    <tr>\n",
       "      <th>889</th>\n",
       "      <td>0</td>\n",
       "      <td>247 237 245 251 253 252 255 226 171 146 114 71...</td>\n",
       "    </tr>\n",
       "  </tbody>\n",
       "</table>\n",
       "<p>890 rows × 2 columns</p>\n",
       "</div>"
      ],
      "text/plain": [
       "     labels                                             Pixels\n",
       "0         0  71 68 62 63 183 237 236 241 244 245 246 246 24...\n",
       "1         0  243 246 208 132 106 105 109 122 124 106 92 93 ...\n",
       "2         0  46 40 34 35 40 24 28 50 71 95 113 128 143 153 ...\n",
       "3         0  144 135 127 132 143 155 177 182 178 168 152 15...\n",
       "4         0  230 125 80 66 78 73 82 73 77 70 59 62 46 35 29...\n",
       "5         0  54 90 88 80 97 151 161 133 105 129 125 129 143...\n",
       "6         0  169 167 171 196 204 206 192 174 154 149 155 15...\n",
       "7         0  63 63 64 65 65 65 63 64 64 65 65 64 64 63 65 6...\n",
       "8         0  195 114 30 34 31 29 31 30 31 27 25 29 32 36 35...\n",
       "9         0  118 103 92 67 76 93 100 107 113 114 119 122 12...\n",
       "10        0  84 84 84 85 85 86 85 85 87 79 48 65 147 198 18...\n",
       "11        0  18 19 20 21 21 22 22 22 22 22 22 22 22 20 20 1...\n",
       "12        0  89 99 110 120 145 169 181 184 191 200 199 205 ...\n",
       "13        0  69 64 67 59 73 99 39 44 34 23 48 90 119 147 16...\n",
       "14        0  171 158 152 137 113 105 101 90 84 94 105 110 1...\n",
       "15        0  57 46 48 42 35 43 45 43 48 51 50 33 30 30 37 3...\n",
       "16        0  42 34 58 137 148 156 167 168 174 181 187 194 1...\n",
       "17        0  208 208 209 207 203 155 28 13 93 165 158 162 1...\n",
       "18        0  17 18 19 17 20 128 152 149 149 150 146 143 160...\n",
       "19        0  1 1 0 0 5 1 1 1 0 0 0 0 10 10 0 1 0 0 0 0 0 0 ...\n",
       "20        0  114 148 175 185 181 185 187 182 181 190 192 19...\n",
       "21        0  71 118 229 215 200 146 167 146 182 212 227 212...\n",
       "22        0  185 112 79 137 183 186 123 79 93 114 86 66 84 ...\n",
       "23        0  62 41 36 112 94 83 66 57 51 72 84 68 66 73 82 ...\n",
       "24        0  46 69 70 91 74 73 106 149 153 164 174 186 194 ...\n",
       "25        0  31 34 26 2 1 1 0 0 0 0 0 4 9 17 25 31 37 39 47...\n",
       "26        0  182 179 179 170 179 116 57 42 26 20 34 57 69 9...\n",
       "27        0  95 88 68 77 80 93 94 90 87 91 97 95 91 96 122 ...\n",
       "28        0  44 33 43 37 38 40 29 32 30 28 37 31 29 30 32 3...\n",
       "29        0  25 34 42 44 42 47 57 59 59 58 54 51 50 56 63 6...\n",
       "..      ...                                                ...\n",
       "860       0  103 87 130 120 101 84 73 103 156 142 157 169 1...\n",
       "861       0  168 171 179 192 205 208 204 194 178 165 159 14...\n",
       "862       0  255 205 89 62 47 58 65 84 69 55 73 121 142 176...\n",
       "863       0  1 0 0 26 43 19 4 14 20 24 33 39 46 60 60 59 71...\n",
       "864       0  36 17 17 50 90 111 115 111 116 125 134 148 156...\n",
       "865       0  65 66 67 67 70 68 76 128 154 155 155 154 154 1...\n",
       "866       0  16 7 4 15 13 17 10 45 28 5 9 8 15 26 18 48 24 ...\n",
       "867       0  144 153 188 182 181 190 198 193 194 179 170 16...\n",
       "868       0  13 13 20 28 34 20 18 17 23 27 30 32 27 23 20 1...\n",
       "869       0  145 150 139 94 84 82 62 47 49 91 132 153 177 1...\n",
       "870       0  35 13 6 5 6 12 25 39 38 22 24 59 103 125 124 1...\n",
       "871       0  110 118 112 107 106 92 95 102 100 105 105 91 5...\n",
       "872       0  6 7 10 8 10 13 22 27 38 49 67 84 91 94 103 108...\n",
       "873       0  222 222 220 220 236 206 88 23 26 26 22 18 15 1...\n",
       "874       0  167 124 68 72 111 110 96 89 90 100 127 172 177...\n",
       "875       0  152 153 150 148 150 154 116 95 118 107 81 22 7...\n",
       "876       0  23 21 20 20 20 18 17 24 23 40 69 88 88 92 98 1...\n",
       "877       0  109 104 108 110 111 111 113 117 119 119 126 13...\n",
       "878       0  63 72 71 54 55 51 50 49 49 44 47 47 50 48 49 4...\n",
       "879       0  109 77 41 42 44 35 58 54 63 49 40 48 60 116 12...\n",
       "880       0  108 119 121 115 104 92 88 96 105 118 104 107 1...\n",
       "881       0  254 200 150 131 163 141 174 68 78 161 174 174 ...\n",
       "882       0  180 175 167 165 165 163 168 177 181 184 187 19...\n",
       "883       0  115 115 116 116 116 118 116 111 96 100 108 120...\n",
       "884       0  131 52 33 25 55 64 102 93 106 126 115 119 125 ...\n",
       "885       0  111 185 227 226 217 216 205 213 216 221 213 20...\n",
       "886       0  188 159 117 112 116 119 122 122 125 128 132 13...\n",
       "887       0  0 3 6 14 30 37 42 36 56 60 74 104 121 132 165 ...\n",
       "888       0  30 39 44 47 49 52 55 57 71 85 57 47 66 64 69 8...\n",
       "889       0  247 237 245 251 253 252 255 226 171 146 114 71...\n",
       "\n",
       "[890 rows x 2 columns]"
      ]
     },
     "execution_count": 196,
     "metadata": {},
     "output_type": "execute_result"
    }
   ],
   "source": [
    "import pandas as pd\n",
    "import numpy as np\n",
    "#f = pd.Series([1], index=['labels'])\n",
    "#df['labels']=0\n",
    "df = pd.read_csv('validation_happiness.csv', header=None, names=['Pixels'])\n",
    "df.insert(0, 'labels', 0)\n",
    "df"
   ]
  },
  {
   "cell_type": "code",
   "execution_count": 98,
   "metadata": {
    "collapsed": false,
    "deletable": true,
    "editable": true
   },
   "outputs": [
    {
     "name": "stdout",
     "output_type": "stream",
     "text": [
      "We're on time 0\n"
     ]
    },
    {
     "ename": "IndexError",
     "evalue": "tuple index out of range",
     "output_type": "error",
     "traceback": [
      "\u001b[0;31m---------------------------------------------------------------------------\u001b[0m",
      "\u001b[0;31mIndexError\u001b[0m                                Traceback (most recent call last)",
      "\u001b[0;32m<ipython-input-98-2e0656792c82>\u001b[0m in \u001b[0;36m<module>\u001b[0;34m()\u001b[0m\n\u001b[1;32m      3\u001b[0m     \u001b[0mfilelist\u001b[0m \u001b[0;34m=\u001b[0m \u001b[0mglob\u001b[0m\u001b[0;34m.\u001b[0m\u001b[0mglob\u001b[0m\u001b[0;34m(\u001b[0m\u001b[0;34m(\u001b[0m\u001b[0mroot\u001b[0m\u001b[0;34m+\u001b[0m\u001b[0;34m'/'\u001b[0m\u001b[0;34m+\u001b[0m\u001b[0mdirs\u001b[0m\u001b[0;34m[\u001b[0m\u001b[0mi\u001b[0m\u001b[0;34m]\u001b[0m\u001b[0;34m+\u001b[0m\u001b[0;34m'/*.png'\u001b[0m\u001b[0;34m)\u001b[0m\u001b[0;34m)\u001b[0m\u001b[0;34m\u001b[0m\u001b[0m\n\u001b[1;32m      4\u001b[0m     \u001b[0mx\u001b[0m \u001b[0;34m=\u001b[0m \u001b[0mnp\u001b[0m\u001b[0;34m.\u001b[0m\u001b[0marray\u001b[0m\u001b[0;34m(\u001b[0m\u001b[0;34m[\u001b[0m\u001b[0mnp\u001b[0m\u001b[0;34m.\u001b[0m\u001b[0marray\u001b[0m\u001b[0;34m(\u001b[0m\u001b[0mImage\u001b[0m\u001b[0;34m.\u001b[0m\u001b[0mopen\u001b[0m\u001b[0;34m(\u001b[0m\u001b[0mfname\u001b[0m\u001b[0;34m)\u001b[0m\u001b[0;34m)\u001b[0m \u001b[0;32mfor\u001b[0m \u001b[0mfname\u001b[0m \u001b[0;32min\u001b[0m \u001b[0mfilelist\u001b[0m\u001b[0;34m]\u001b[0m\u001b[0;34m)\u001b[0m\u001b[0;34m\u001b[0m\u001b[0m\n\u001b[0;32m----> 5\u001b[0;31m     \u001b[0mds\u001b[0m \u001b[0;34m=\u001b[0m \u001b[0mx\u001b[0m\u001b[0;34m.\u001b[0m\u001b[0mreshape\u001b[0m\u001b[0;34m(\u001b[0m\u001b[0mx\u001b[0m\u001b[0;34m.\u001b[0m\u001b[0mshape\u001b[0m\u001b[0;34m[\u001b[0m\u001b[0;36m0\u001b[0m\u001b[0;34m]\u001b[0m\u001b[0;34m,\u001b[0m\u001b[0mx\u001b[0m\u001b[0;34m.\u001b[0m\u001b[0mshape\u001b[0m\u001b[0;34m[\u001b[0m\u001b[0;36m2\u001b[0m\u001b[0;34m]\u001b[0m\u001b[0;34m*\u001b[0m\u001b[0mx\u001b[0m\u001b[0;34m.\u001b[0m\u001b[0mshape\u001b[0m\u001b[0;34m[\u001b[0m\u001b[0;36m1\u001b[0m\u001b[0;34m]\u001b[0m\u001b[0;34m)\u001b[0m\u001b[0;34m\u001b[0m\u001b[0m\n\u001b[0m\u001b[1;32m      6\u001b[0m     \u001b[0;31m# name = print(dirs[x])+\"_valid.csv\"\u001b[0m\u001b[0;34m\u001b[0m\u001b[0;34m\u001b[0m\u001b[0m\n\u001b[1;32m      7\u001b[0m     \u001b[0mnumpy\u001b[0m\u001b[0;34m.\u001b[0m\u001b[0msavetxt\u001b[0m\u001b[0;34m(\u001b[0m\u001b[0mdirs\u001b[0m\u001b[0;34m[\u001b[0m\u001b[0mi\u001b[0m\u001b[0;34m]\u001b[0m\u001b[0;34m+\u001b[0m\u001b[0;34m\"_valid.csv\"\u001b[0m\u001b[0;34m,\u001b[0m \u001b[0mds\u001b[0m\u001b[0;34m,\u001b[0m \u001b[0mdelimiter\u001b[0m\u001b[0;34m=\u001b[0m\u001b[0;34m\" \"\u001b[0m\u001b[0;34m,\u001b[0m\u001b[0mfmt\u001b[0m\u001b[0;34m=\u001b[0m\u001b[0;34m'%i'\u001b[0m\u001b[0;34m)\u001b[0m\u001b[0;34m\u001b[0m\u001b[0m\n",
      "\u001b[0;31mIndexError\u001b[0m: tuple index out of range"
     ]
    }
   ],
   "source": [
    "for i in range(len(dirs)):\n",
    "    print(\"We're on time %d\" % (i))\n",
    "    filelist = glob.glob((root+'/'+dirs[i]+'/*.png'))\n",
    "    x = np.array([np.array(Image.open(fname)) for fname in filelist])\n",
    "    ds = x.reshape(x.shape[0],x.shape[2]*x.shape[1])\n",
    "    # name = print(dirs[x])+\"_valid.csv\"\n",
    "    numpy.savetxt(dirs[i]+\"_valid.csv\", ds, delimiter=\" \",fmt='%i')\n"
   ]
  },
  {
   "cell_type": "code",
   "execution_count": 17,
   "metadata": {
    "collapsed": false,
    "deletable": true,
    "editable": true
   },
   "outputs": [
    {
     "name": "stdout",
     "output_type": "stream",
     "text": [
      "neutral_valid.csv\n"
     ]
    }
   ],
   "source": [
    "print(dirs[0]+\"_valid.csv\")\n",
    "\"test/neutral/neutral\\\" + str(i) + \\\".png\\\""
   ]
  },
  {
   "cell_type": "code",
   "execution_count": 47,
   "metadata": {
    "collapsed": false,
    "deletable": true,
    "editable": true
   },
   "outputs": [],
   "source": [
    "filelist = glob.glob((root+'/'+dirs[0]+'/*.png'))\n"
   ]
  },
  {
   "cell_type": "code",
   "execution_count": 27,
   "metadata": {
    "collapsed": false,
    "deletable": true,
    "editable": true
   },
   "outputs": [
    {
     "name": "stdout",
     "output_type": "stream",
     "text": [
      "/home/asad/Desktop/Facial/try_try_again/fer2013_grayscale/fer2013_data/validation/neutral\n"
     ]
    }
   ],
   "source": [
    "print(root+'/'+dirs[0])"
   ]
  },
  {
   "cell_type": "raw",
   "metadata": {
    "deletable": true,
    "editable": true
   },
   "source": [
    "filelist.shape"
   ]
  },
  {
   "cell_type": "code",
   "execution_count": 28,
   "metadata": {
    "collapsed": false,
    "deletable": true,
    "editable": true
   },
   "outputs": [],
   "source": [
    "x = np.array([np.array(Image.open(fname)) for fname in filelist])\n"
   ]
  },
  {
   "cell_type": "code",
   "execution_count": 37,
   "metadata": {
    "collapsed": false,
    "deletable": true,
    "editable": true
   },
   "outputs": [
    {
     "data": {
      "text/plain": [
       "2304"
      ]
     },
     "execution_count": 37,
     "metadata": {},
     "output_type": "execute_result"
    }
   ],
   "source": [
    "x.shape[2]*x.shape[1]"
   ]
  },
  {
   "cell_type": "code",
   "execution_count": 35,
   "metadata": {
    "collapsed": false,
    "deletable": true,
    "editable": true
   },
   "outputs": [],
   "source": [
    "ds = x.reshape(x.shape[0],x.shape[2]*x.shape[1])"
   ]
  },
  {
   "cell_type": "code",
   "execution_count": 41,
   "metadata": {
    "collapsed": false,
    "deletable": true,
    "editable": true
   },
   "outputs": [],
   "source": [
    "numpy.savetxt(\"neutral.csv\", ds, delimiter=\" \",fmt='%i')\n"
   ]
  },
  {
   "cell_type": "code",
   "execution_count": 48,
   "metadata": {
    "collapsed": false,
    "deletable": true,
    "editable": true
   },
   "outputs": [
    {
     "data": {
      "text/plain": [
       "array([[ 36,  50,  53, ...,  70, 104, 120],\n",
       "       [ 36,  61,  51, ...,  41,  47,  44],\n",
       "       [193, 192, 153, ..., 254, 255, 255],\n",
       "       ..., \n",
       "       [  1,  13,  24, ..., 200, 202, 204],\n",
       "       [233, 230, 192, ...,  41,  41,  47],\n",
       "       [120,   6,   4, ..., 178, 173, 174]], dtype=uint8)"
      ]
     },
     "execution_count": 48,
     "metadata": {},
     "output_type": "execute_result"
    }
   ],
   "source": [
    "ds"
   ]
  },
  {
   "cell_type": "code",
   "execution_count": 81,
   "metadata": {
    "collapsed": false,
    "deletable": true,
    "editable": true
   },
   "outputs": [],
   "source": [
    "y=zeros((496,2304))"
   ]
  },
  {
   "cell_type": "code",
   "execution_count": 82,
   "metadata": {
    "collapsed": false,
    "deletable": true,
    "editable": true
   },
   "outputs": [],
   "source": [
    "w= zeros(496)"
   ]
  },
  {
   "cell_type": "code",
   "execution_count": 83,
   "metadata": {
    "collapsed": false,
    "deletable": true,
    "editable": true
   },
   "outputs": [
    {
     "ename": "AttributeError",
     "evalue": "'zip' object has no attribute 'shape'",
     "output_type": "error",
     "traceback": [
      "\u001b[0;31m---------------------------------------------------------------------------\u001b[0m",
      "\u001b[0;31mAttributeError\u001b[0m                            Traceback (most recent call last)",
      "\u001b[0;32m<ipython-input-83-623b94a727f8>\u001b[0m in \u001b[0;36m<module>\u001b[0;34m()\u001b[0m\n\u001b[1;32m      1\u001b[0m \u001b[0mrows\u001b[0m \u001b[0;34m=\u001b[0m \u001b[0mzip\u001b[0m\u001b[0;34m(\u001b[0m\u001b[0my\u001b[0m\u001b[0;34m,\u001b[0m\u001b[0mw\u001b[0m\u001b[0;34m)\u001b[0m\u001b[0;34m\u001b[0m\u001b[0m\n\u001b[0;32m----> 2\u001b[0;31m \u001b[0mrows\u001b[0m\u001b[0;34m.\u001b[0m\u001b[0mshape\u001b[0m\u001b[0;34m\u001b[0m\u001b[0m\n\u001b[0m",
      "\u001b[0;31mAttributeError\u001b[0m: 'zip' object has no attribute 'shape'"
     ]
    }
   ],
   "source": [
    "rows = zip(y,w)\n",
    "rows.shape"
   ]
  },
  {
   "cell_type": "code",
   "execution_count": 86,
   "metadata": {
    "collapsed": false,
    "deletable": true,
    "editable": true
   },
   "outputs": [],
   "source": [
    "numpy.savetxt(\"test_valid.csv\", np.hstack([w, ds[1]]), delimiter=\",\",fmt='%i')"
   ]
  },
  {
   "cell_type": "code",
   "execution_count": 88,
   "metadata": {
    "collapsed": false,
    "deletable": true,
    "editable": true
   },
   "outputs": [
    {
     "data": {
      "text/plain": [
       "array([[ 36,  50,  53, ...,  70, 104, 120],\n",
       "       [ 36,  61,  51, ...,  41,  47,  44],\n",
       "       [193, 192, 153, ..., 254, 255, 255],\n",
       "       ..., \n",
       "       [ 52,  51,  52, ...,  89,  90, 104],\n",
       "       [180, 135, 117, ...,  43,  41,  42],\n",
       "       [255, 254, 253, ..., 135, 134, 137]], dtype=uint8)"
      ]
     },
     "execution_count": 88,
     "metadata": {},
     "output_type": "execute_result"
    }
   ],
   "source": [
    "ds[0:50]"
   ]
  },
  {
   "cell_type": "code",
   "execution_count": null,
   "metadata": {
    "collapsed": true,
    "deletable": true,
    "editable": true
   },
   "outputs": [],
   "source": []
  }
 ],
 "metadata": {
  "kernelspec": {
   "display_name": "Python 3",
   "language": "python",
   "name": "python3"
  },
  "language_info": {
   "codemirror_mode": {
    "name": "ipython",
    "version": 3
   },
   "file_extension": ".py",
   "mimetype": "text/x-python",
   "name": "python",
   "nbconvert_exporter": "python",
   "pygments_lexer": "ipython3",
   "version": "3.5.2"
  }
 },
 "nbformat": 4,
 "nbformat_minor": 2
}
