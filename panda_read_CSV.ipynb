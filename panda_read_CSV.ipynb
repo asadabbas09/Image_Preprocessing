{
 "cells": [
  {
   "cell_type": "code",
   "execution_count": 1,
   "metadata": {
    "collapsed": true
   },
   "outputs": [],
   "source": [
    "import pandas as pd \n",
    "import numpy as np\n",
    "import matplotlib.pyplot as plt \n",
    "import matplotlib.image as mpimg\n",
    "\n",
    "from sklearn import svm, metrics"
   ]
  },
  {
   "cell_type": "code",
   "execution_count": 2,
   "metadata": {
    "collapsed": true
   },
   "outputs": [],
   "source": [
    "#Read csv file\n",
    "data = pd.read_csv('fer2013/fer2013.csv')\n",
    "\n",
    "#Number of samples\n",
    "n_samples = len(data)\n",
    "n_samples_train = 28709\n",
    "n_samples_test = 3589\n",
    "n_samples_validation = 3589\n",
    "\n",
    "#Pixel width and height\n",
    "w = 48\n",
    "h = 48"
   ]
  },
  {
   "cell_type": "code",
   "execution_count": 20,
   "metadata": {
    "collapsed": false
   },
   "outputs": [],
   "source": [
    "#Separating labels and features respectively\n",
    "y = data['emotion']\n",
    "X = np.zeros((n_samples, w, h))\n",
    "for i in range(n_samples):\n",
    "    X[i] = np.fromstring(data['pixels'][i], dtype=int, sep=' ').reshape(w, h)\n",
    "#Training set \n",
    "X_train = X[:n_samples_train].reshape(n_samples_train, -1)\n",
    "y_train = y[:n_samples_train]\n"
   ]
  },
  {
   "cell_type": "code",
   "execution_count": 152,
   "metadata": {
    "collapsed": false
   },
   "outputs": [],
   "source": [
    "anger_train = data.loc[(data['Usage'] == 'PrivateTest') &  (data['emotion'] == 6 )]\n",
    "anger_reset = anger_train.reset_index()\n",
    "nt_samples = len(anger_reset)\n",
    "\n",
    "y3 = np.zeros((nt_samples, w, h))\n",
    "for j in range(nt_samples):\n",
    "    y3[j] = np.fromstring(anger_reset['pixels'][j], dtype=int, sep=' ').reshape(w,h)\n"
   ]
  },
  {
   "cell_type": "code",
   "execution_count": 153,
   "metadata": {
    "collapsed": true
   },
   "outputs": [],
   "source": [
    "from PIL import Image\n",
    "for i in range(nt_samples):\n",
    "    im = Image.fromarray(y3[i])\n",
    "    if im.mode != 'RGB':\n",
    "        im = im.convert('RGB')\n",
    "    im.save(\"test/neutral/neutral\" + str(i) + \".png\")"
   ]
  },
  {
   "cell_type": "code",
   "execution_count": 74,
   "metadata": {
    "collapsed": false
   },
   "outputs": [
    {
     "data": {
      "image/png": "[encoded data removed]",
      "text/plain": [
       "<matplotlib.figure.Figure at 0x7f9d90492828>"
      ]
     },
     "metadata": {},
     "output_type": "display_data"
    }
   ],
   "source": [
    "\n",
    "import matplotlib.pyplot as plt\n",
    "plt.show()\n",
    "plt.imshow(X[0]) #Needs to be in row,col order\n",
    "plt.show()"
   ]
  },
  {
   "cell_type": "code",
   "execution_count": 39,
   "metadata": {
    "collapsed": false
   },
   "outputs": [],
   "source": [
    "from PIL import Image\n",
    "for i in range(1,10):\n",
    "    im = Image.fromarray(X[i])\n",
    "    if im.mode != 'RGB':\n",
    "        im = im.convert('RGB')\n",
    "    im.save(\"test\" + str(i) + \".png\")"
   ]
  },
  {
   "cell_type": "code",
   "execution_count": null,
   "metadata": {
    "collapsed": true
   },
   "outputs": [],
   "source": []
  }
 ],
 "metadata": {
  "kernelspec": {
   "display_name": "Python 3",
   "language": "python",
   "name": "python3"
  },
  "language_info": {
   "codemirror_mode": {
    "name": "ipython",
    "version": 3
   },
   "file_extension": ".py",
   "mimetype": "text/x-python",
   "name": "python",
   "nbconvert_exporter": "python",
   "pygments_lexer": "ipython3",
   "version": "3.5.2"
  }
 },
 "nbformat": 4,
 "nbformat_minor": 2
}
